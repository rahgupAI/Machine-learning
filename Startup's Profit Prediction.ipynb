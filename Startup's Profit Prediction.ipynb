{
 "cells": [
  {
   "cell_type": "code",
   "execution_count": 1,
   "id": "d35fe1a7",
   "metadata": {},
   "outputs": [
    {
     "name": "stdout",
     "output_type": "stream",
     "text": [
      "--2024-12-03 21:40:52--  https://www.dropbox.com/s/zcebxexe0a4atiy/50_Startups.csv\n",
      "Resolving www.dropbox.com (www.dropbox.com)... 2620:100:6031:18::a27d:5112, 162.125.81.18\n",
      "Connecting to www.dropbox.com (www.dropbox.com)|2620:100:6031:18::a27d:5112|:443... connected.\n",
      "HTTP request sent, awaiting response... 302 Found\n",
      "Location: https://www.dropbox.com/scl/fi/h0uy3io3ildj6kdnbvd3g/50_Startups.csv?rlkey=rczq4olt57naivsb8o49yb1mh [following]\n",
      "--2024-12-03 21:40:54--  https://www.dropbox.com/scl/fi/h0uy3io3ildj6kdnbvd3g/50_Startups.csv?rlkey=rczq4olt57naivsb8o49yb1mh\n",
      "Reusing existing connection to [www.dropbox.com]:443.\n",
      "HTTP request sent, awaiting response... 302 Found\n",
      "Location: https://ucb7c8bcda620a2f0a0b7df4b81f.dl.dropboxusercontent.com/cd/0/inline/CfjT0mqR3ThUKeQ33F4uf7-kIajVcbahNPzE4oGmKTf6THjPdI1pyhsTPo0Khgj6xYbcdi5DtkEANkCUIumRiLusfDMi16aPWCkX60a1z4RV2LDh184jvWy2ut3UdWchLbGrkULtcH0I8XmWKXMv00QN/file# [following]\n",
      "--2024-12-03 21:40:55--  https://ucb7c8bcda620a2f0a0b7df4b81f.dl.dropboxusercontent.com/cd/0/inline/CfjT0mqR3ThUKeQ33F4uf7-kIajVcbahNPzE4oGmKTf6THjPdI1pyhsTPo0Khgj6xYbcdi5DtkEANkCUIumRiLusfDMi16aPWCkX60a1z4RV2LDh184jvWy2ut3UdWchLbGrkULtcH0I8XmWKXMv00QN/file\n",
      "Resolving ucb7c8bcda620a2f0a0b7df4b81f.dl.dropboxusercontent.com (ucb7c8bcda620a2f0a0b7df4b81f.dl.dropboxusercontent.com)... 2620:100:6031:15::a27d:510f, 162.125.81.15\n",
      "Connecting to ucb7c8bcda620a2f0a0b7df4b81f.dl.dropboxusercontent.com (ucb7c8bcda620a2f0a0b7df4b81f.dl.dropboxusercontent.com)|2620:100:6031:15::a27d:510f|:443... connected.\n",
      "HTTP request sent, awaiting response... 200 OK\n",
      "Length: 2436 (2.4K) [text/plain]\n",
      "Saving to: ‘50_Startups.csv.1’\n",
      "\n",
      "50_Startups.csv.1   100%[===================>]   2.38K  --.-KB/s    in 0s      \n",
      "\n",
      "2024-12-03 21:40:56 (141 MB/s) - ‘50_Startups.csv.1’ saved [2436/2436]\n",
      "\n"
     ]
    }
   ],
   "source": [
    "!wget https://www.dropbox.com/s/zcebxexe0a4atiy/50_Startups.csv"
   ]
  },
  {
   "cell_type": "markdown",
   "id": "b1aca3cd",
   "metadata": {},
   "source": [
    "Training a Linear Regression model\n",
    "\n",
    "Predicting using the trained model\n",
    "\n",
    "Evaluating a model: R2-score and Root Mean Squared Error\n",
    "\n",
    "Finding out coefficients and intercept\n",
    "\n",
    "Ridge Regression\n",
    "\n",
    "Lasso Regression"
   ]
  },
  {
   "cell_type": "code",
   "execution_count": 2,
   "id": "30533400",
   "metadata": {},
   "outputs": [
    {
     "name": "stdout",
     "output_type": "stream",
     "text": [
      "R&D Spend          0\n",
      "Administration     0\n",
      "Marketing Spend    0\n",
      "State              0\n",
      "Profit             0\n",
      "dtype: int64\n",
      "   R&D Spend  Administration  Marketing Spend       State     Profit\n",
      "0  165349.20       136897.80        471784.10    New York  192261.83\n",
      "1  162597.70       151377.59        443898.53  California  191792.06\n",
      "2  153441.51       101145.55        407934.54     Florida  191050.39\n",
      "3  144372.41       118671.85        383199.62    New York  182901.99\n",
      "4  142107.34        91391.77        366168.42     Florida  166187.94\n",
      "(50, 5)\n"
     ]
    }
   ],
   "source": [
    "import pandas as pd\n",
    "df = pd.read_csv('50_Startups.csv')\n",
    "print(df.isnull().sum())\n",
    "print(df.head())\n",
    "print(df.shape)"
   ]
  },
  {
   "cell_type": "code",
   "execution_count": 3,
   "id": "eb666c22",
   "metadata": {},
   "outputs": [
    {
     "data": {
      "text/html": [
       "<div>\n",
       "<style scoped>\n",
       "    .dataframe tbody tr th:only-of-type {\n",
       "        vertical-align: middle;\n",
       "    }\n",
       "\n",
       "    .dataframe tbody tr th {\n",
       "        vertical-align: top;\n",
       "    }\n",
       "\n",
       "    .dataframe thead th {\n",
       "        text-align: right;\n",
       "    }\n",
       "</style>\n",
       "<table border=\"1\" class=\"dataframe\">\n",
       "  <thead>\n",
       "    <tr style=\"text-align: right;\">\n",
       "      <th></th>\n",
       "      <th>R&amp;D Spend</th>\n",
       "      <th>Administration</th>\n",
       "      <th>Marketing Spend</th>\n",
       "      <th>State</th>\n",
       "      <th>Profit</th>\n",
       "    </tr>\n",
       "  </thead>\n",
       "  <tbody>\n",
       "    <tr>\n",
       "      <th>0</th>\n",
       "      <td>165349.20</td>\n",
       "      <td>136897.80</td>\n",
       "      <td>471784.10</td>\n",
       "      <td>2</td>\n",
       "      <td>192261.83</td>\n",
       "    </tr>\n",
       "    <tr>\n",
       "      <th>1</th>\n",
       "      <td>162597.70</td>\n",
       "      <td>151377.59</td>\n",
       "      <td>443898.53</td>\n",
       "      <td>0</td>\n",
       "      <td>191792.06</td>\n",
       "    </tr>\n",
       "    <tr>\n",
       "      <th>2</th>\n",
       "      <td>153441.51</td>\n",
       "      <td>101145.55</td>\n",
       "      <td>407934.54</td>\n",
       "      <td>1</td>\n",
       "      <td>191050.39</td>\n",
       "    </tr>\n",
       "    <tr>\n",
       "      <th>3</th>\n",
       "      <td>144372.41</td>\n",
       "      <td>118671.85</td>\n",
       "      <td>383199.62</td>\n",
       "      <td>2</td>\n",
       "      <td>182901.99</td>\n",
       "    </tr>\n",
       "    <tr>\n",
       "      <th>4</th>\n",
       "      <td>142107.34</td>\n",
       "      <td>91391.77</td>\n",
       "      <td>366168.42</td>\n",
       "      <td>1</td>\n",
       "      <td>166187.94</td>\n",
       "    </tr>\n",
       "  </tbody>\n",
       "</table>\n",
       "</div>"
      ],
      "text/plain": [
       "   R&D Spend  Administration  Marketing Spend  State     Profit\n",
       "0  165349.20       136897.80        471784.10      2  192261.83\n",
       "1  162597.70       151377.59        443898.53      0  191792.06\n",
       "2  153441.51       101145.55        407934.54      1  191050.39\n",
       "3  144372.41       118671.85        383199.62      2  182901.99\n",
       "4  142107.34        91391.77        366168.42      1  166187.94"
      ]
     },
     "execution_count": 3,
     "metadata": {},
     "output_type": "execute_result"
    }
   ],
   "source": [
    "from sklearn.preprocessing import LabelEncoder\n",
    "le=LabelEncoder()\n",
    "df['State']=le.fit_transform(df['State'])\n",
    "df.head()"
   ]
  },
  {
   "cell_type": "code",
   "execution_count": 4,
   "id": "e5b99e83",
   "metadata": {},
   "outputs": [
    {
     "name": "stdout",
     "output_type": "stream",
     "text": [
      "(40, 4)\n",
      "(10, 4)\n",
      "(40,)\n",
      "(10,)\n"
     ]
    }
   ],
   "source": [
    "from sklearn.model_selection import train_test_split\n",
    "X= df.iloc[:,:-1]\n",
    "y= df.iloc[:,-1]\n",
    "X_train,X_test,y_train,y_test=train_test_split(X, y,test_size=0.20,random_state = 1)\n",
    "print(X_train.shape)\n",
    "print(X_test.shape)\n",
    "print(y_train.shape)\n",
    "print(y_test.shape)"
   ]
  },
  {
   "cell_type": "code",
   "execution_count": 5,
   "id": "b7d06596",
   "metadata": {},
   "outputs": [
    {
     "name": "stdout",
     "output_type": "stream",
     "text": [
      "The final coefficients after training is: [ 7.73632191e-01 -9.41863371e-03  2.93451013e-02  1.73159640e+02]\n",
      "The final intercept after training is: 49637.34362243091\n"
     ]
    }
   ],
   "source": [
    "from sklearn.linear_model import LinearRegression\n",
    "lr = LinearRegression()\n",
    "lr.fit(X_train,y_train)\n",
    "print('The final coefficients after training is:',lr.coef_)\n",
    "print('The final intercept after training is:',lr.intercept_)"
   ]
  },
  {
   "cell_type": "code",
   "execution_count": 6,
   "id": "a1258c2e",
   "metadata": {},
   "outputs": [
    {
     "name": "stdout",
     "output_type": "stream",
     "text": [
      "r2 score of our model is: 0.9649827631091706\n",
      "mean absolute error of our model is: 8913.354557987741\n"
     ]
    }
   ],
   "source": [
    "from sklearn.metrics import r2_score,mean_squared_error\n",
    "y_pred = lr.predict(X_test)\n",
    "print(\"r2 score of our model is:\", r2_score(y_test,y_pred))\n",
    "print(\"mean absolute error of our model is:\", mean_squared_error(y_test,y_pred,squared=False))"
   ]
  },
  {
   "cell_type": "code",
   "execution_count": null,
   "id": "38e60008",
   "metadata": {},
   "outputs": [],
   "source": []
  }
 ],
 "metadata": {
  "kernelspec": {
   "display_name": "Python 3 (ipykernel)",
   "language": "python",
   "name": "python3"
  },
  "language_info": {
   "codemirror_mode": {
    "name": "ipython",
    "version": 3
   },
   "file_extension": ".py",
   "mimetype": "text/x-python",
   "name": "python",
   "nbconvert_exporter": "python",
   "pygments_lexer": "ipython3",
   "version": "3.11.5"
  }
 },
 "nbformat": 4,
 "nbformat_minor": 5
}
