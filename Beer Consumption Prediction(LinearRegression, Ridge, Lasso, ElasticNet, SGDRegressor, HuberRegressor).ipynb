{
 "cells": [
  {
   "cell_type": "markdown",
   "id": "8863c378",
   "metadata": {},
   "source": [
    "#### The data (sample) were collected in São Paulo — Brazil, in a university, where there are some parties with groups of students from 18 to 28 years of age (average). The dataset used for this activity has 7 attributes, being a Target, with a period of one year. You have to predict the quantity of beer consumption based on the features that contain climate conditions."
   ]
  },
  {
   "cell_type": "markdown",
   "id": "32284be7",
   "metadata": {},
   "source": [
    "1. Load the dataset, check its shape, Perform EDA using Pandas Profiling - Intermediate\n",
    "2. Rectify the data of the first four columns - Intermediate\n",
    "3. Create new features using the 'Data' feature and the make 'Data' column as index - Intermediate\n",
    "4. Handle null and duplicate values - Beginner\n",
    "5. Check the data-type of the features and convert them to appropriate data type - Beginner\n",
    "6. Analyze features with outlier values - Intermediate\n",
    "7. Plot and analyze correlation - Beginner\n",
    "8. Split the dataset for training and testing - Beginner\n",
    "9. Train a linear regression model and print the intercept and coefficients - Beginner\n",
    "10. Evaluate the model using R2 score, mean absolute error, and root mean squared error - Beginner"
   ]
  },
  {
   "cell_type": "markdown",
   "id": "cc0c12ca",
   "metadata": {},
   "source": [
    "Data collection\n",
    "\n",
    "Data analysis\n",
    "\n",
    "Data wrangling/Feature engineering\n",
    "\n",
    "Train/Test Algorithms\n",
    "\n",
    "Predicting using the trained model\n",
    "\n",
    "Evaluating a model: R2-score, Mean Absolute Error, and root mean squared error"
   ]
  },
  {
   "cell_type": "code",
   "execution_count": 1,
   "id": "aa0c7586",
   "metadata": {},
   "outputs": [],
   "source": [
    "import pandas as pd\n",
    "df1 = pd.read_csv('Consumo_cerveja.csv',parse_dates=['Data'])"
   ]
  },
  {
   "cell_type": "code",
   "execution_count": 2,
   "id": "378cdce5",
   "metadata": {},
   "outputs": [],
   "source": [
    "df1['Temperatura Media (C)']=df1['Temperatura Media (C)'].str.replace(',','.')\n",
    "df1['Temperatura Minima (C)'] = df1['Temperatura Minima (C)'].str.replace(',','.')\n",
    "df1['Temperatura Maxima (C)'] = df1['Temperatura Maxima (C)'].str.replace(',','.')\n",
    "df1['Precipitacao (mm)'] = df1['Precipitacao (mm)'].str.replace(',','.')"
   ]
  },
  {
   "cell_type": "code",
   "execution_count": 3,
   "id": "233960a7",
   "metadata": {},
   "outputs": [
    {
     "data": {
      "text/html": [
       "<div>\n",
       "<style scoped>\n",
       "    .dataframe tbody tr th:only-of-type {\n",
       "        vertical-align: middle;\n",
       "    }\n",
       "\n",
       "    .dataframe tbody tr th {\n",
       "        vertical-align: top;\n",
       "    }\n",
       "\n",
       "    .dataframe thead th {\n",
       "        text-align: right;\n",
       "    }\n",
       "</style>\n",
       "<table border=\"1\" class=\"dataframe\">\n",
       "  <thead>\n",
       "    <tr style=\"text-align: right;\">\n",
       "      <th></th>\n",
       "      <th>Data</th>\n",
       "      <th>Temperatura Media (C)</th>\n",
       "      <th>Temperatura Minima (C)</th>\n",
       "      <th>Temperatura Maxima (C)</th>\n",
       "      <th>Precipitacao (mm)</th>\n",
       "      <th>Final de Semana</th>\n",
       "      <th>Consumo de cerveja (litros)</th>\n",
       "    </tr>\n",
       "  </thead>\n",
       "  <tbody>\n",
       "    <tr>\n",
       "      <th>0</th>\n",
       "      <td>2015-01-01</td>\n",
       "      <td>27.3</td>\n",
       "      <td>23.9</td>\n",
       "      <td>32.5</td>\n",
       "      <td>0</td>\n",
       "      <td>0</td>\n",
       "      <td>25.461</td>\n",
       "    </tr>\n",
       "    <tr>\n",
       "      <th>1</th>\n",
       "      <td>2015-01-02</td>\n",
       "      <td>27.02</td>\n",
       "      <td>24.5</td>\n",
       "      <td>33.5</td>\n",
       "      <td>0</td>\n",
       "      <td>0</td>\n",
       "      <td>28.972</td>\n",
       "    </tr>\n",
       "    <tr>\n",
       "      <th>2</th>\n",
       "      <td>2015-01-03</td>\n",
       "      <td>24.82</td>\n",
       "      <td>22.4</td>\n",
       "      <td>29.9</td>\n",
       "      <td>0</td>\n",
       "      <td>1</td>\n",
       "      <td>30.814</td>\n",
       "    </tr>\n",
       "    <tr>\n",
       "      <th>3</th>\n",
       "      <td>2015-01-04</td>\n",
       "      <td>23.98</td>\n",
       "      <td>21.5</td>\n",
       "      <td>28.6</td>\n",
       "      <td>1.2</td>\n",
       "      <td>1</td>\n",
       "      <td>29.799</td>\n",
       "    </tr>\n",
       "    <tr>\n",
       "      <th>4</th>\n",
       "      <td>2015-01-05</td>\n",
       "      <td>23.82</td>\n",
       "      <td>21</td>\n",
       "      <td>28.3</td>\n",
       "      <td>0</td>\n",
       "      <td>0</td>\n",
       "      <td>28.900</td>\n",
       "    </tr>\n",
       "  </tbody>\n",
       "</table>\n",
       "</div>"
      ],
      "text/plain": [
       "        Data Temperatura Media (C) Temperatura Minima (C)  \\\n",
       "0 2015-01-01                  27.3                   23.9   \n",
       "1 2015-01-02                 27.02                   24.5   \n",
       "2 2015-01-03                 24.82                   22.4   \n",
       "3 2015-01-04                 23.98                   21.5   \n",
       "4 2015-01-05                 23.82                     21   \n",
       "\n",
       "  Temperatura Maxima (C) Precipitacao (mm)  Final de Semana  \\\n",
       "0                   32.5                 0                0   \n",
       "1                   33.5                 0                0   \n",
       "2                   29.9                 0                1   \n",
       "3                   28.6               1.2                1   \n",
       "4                   28.3                 0                0   \n",
       "\n",
       "   Consumo de cerveja (litros)  \n",
       "0                       25.461  \n",
       "1                       28.972  \n",
       "2                       30.814  \n",
       "3                       29.799  \n",
       "4                       28.900  "
      ]
     },
     "execution_count": 3,
     "metadata": {},
     "output_type": "execute_result"
    }
   ],
   "source": [
    "df1.head()"
   ]
  },
  {
   "cell_type": "markdown",
   "id": "23477513",
   "metadata": {},
   "source": [
    "Create new feature 'Month' from the dates, consisting of the month of the year\n",
    "\n",
    "Create new feature 'Day' from the dates, consisting of the day of the week\n",
    "\n",
    "Set values from 'Data' column as indexes"
   ]
  },
  {
   "cell_type": "code",
   "execution_count": 4,
   "id": "e6af83f3",
   "metadata": {},
   "outputs": [
    {
     "data": {
      "text/html": [
       "<div>\n",
       "<style scoped>\n",
       "    .dataframe tbody tr th:only-of-type {\n",
       "        vertical-align: middle;\n",
       "    }\n",
       "\n",
       "    .dataframe tbody tr th {\n",
       "        vertical-align: top;\n",
       "    }\n",
       "\n",
       "    .dataframe thead th {\n",
       "        text-align: right;\n",
       "    }\n",
       "</style>\n",
       "<table border=\"1\" class=\"dataframe\">\n",
       "  <thead>\n",
       "    <tr style=\"text-align: right;\">\n",
       "      <th></th>\n",
       "      <th>Data</th>\n",
       "      <th>Temperatura Media (C)</th>\n",
       "      <th>Temperatura Minima (C)</th>\n",
       "      <th>Temperatura Maxima (C)</th>\n",
       "      <th>Precipitacao (mm)</th>\n",
       "      <th>Final de Semana</th>\n",
       "      <th>Consumo de cerveja (litros)</th>\n",
       "      <th>Month</th>\n",
       "      <th>day</th>\n",
       "    </tr>\n",
       "  </thead>\n",
       "  <tbody>\n",
       "    <tr>\n",
       "      <th>335</th>\n",
       "      <td>2015-12-02</td>\n",
       "      <td>22.1</td>\n",
       "      <td>18.2</td>\n",
       "      <td>29.4</td>\n",
       "      <td>0</td>\n",
       "      <td>0</td>\n",
       "      <td>30.471</td>\n",
       "      <td>12</td>\n",
       "      <td>2</td>\n",
       "    </tr>\n",
       "    <tr>\n",
       "      <th>336</th>\n",
       "      <td>2015-12-03</td>\n",
       "      <td>22.44</td>\n",
       "      <td>20.2</td>\n",
       "      <td>26.1</td>\n",
       "      <td>0</td>\n",
       "      <td>0</td>\n",
       "      <td>28.405</td>\n",
       "      <td>12</td>\n",
       "      <td>3</td>\n",
       "    </tr>\n",
       "    <tr>\n",
       "      <th>337</th>\n",
       "      <td>2015-12-04</td>\n",
       "      <td>22.76</td>\n",
       "      <td>19</td>\n",
       "      <td>29.1</td>\n",
       "      <td>0</td>\n",
       "      <td>0</td>\n",
       "      <td>29.513</td>\n",
       "      <td>12</td>\n",
       "      <td>4</td>\n",
       "    </tr>\n",
       "    <tr>\n",
       "      <th>338</th>\n",
       "      <td>2015-12-05</td>\n",
       "      <td>24.8</td>\n",
       "      <td>19.5</td>\n",
       "      <td>30.6</td>\n",
       "      <td>0.1</td>\n",
       "      <td>1</td>\n",
       "      <td>32.451</td>\n",
       "      <td>12</td>\n",
       "      <td>5</td>\n",
       "    </tr>\n",
       "    <tr>\n",
       "      <th>339</th>\n",
       "      <td>2015-12-06</td>\n",
       "      <td>23.12</td>\n",
       "      <td>20.6</td>\n",
       "      <td>28</td>\n",
       "      <td>0.1</td>\n",
       "      <td>1</td>\n",
       "      <td>32.780</td>\n",
       "      <td>12</td>\n",
       "      <td>6</td>\n",
       "    </tr>\n",
       "    <tr>\n",
       "      <th>340</th>\n",
       "      <td>2015-12-07</td>\n",
       "      <td>20.04</td>\n",
       "      <td>18</td>\n",
       "      <td>23.9</td>\n",
       "      <td>47.8</td>\n",
       "      <td>0</td>\n",
       "      <td>23.375</td>\n",
       "      <td>12</td>\n",
       "      <td>0</td>\n",
       "    </tr>\n",
       "  </tbody>\n",
       "</table>\n",
       "</div>"
      ],
      "text/plain": [
       "          Data Temperatura Media (C) Temperatura Minima (C)  \\\n",
       "335 2015-12-02                  22.1                   18.2   \n",
       "336 2015-12-03                 22.44                   20.2   \n",
       "337 2015-12-04                 22.76                     19   \n",
       "338 2015-12-05                  24.8                   19.5   \n",
       "339 2015-12-06                 23.12                   20.6   \n",
       "340 2015-12-07                 20.04                     18   \n",
       "\n",
       "    Temperatura Maxima (C) Precipitacao (mm)  Final de Semana  \\\n",
       "335                   29.4                 0                0   \n",
       "336                   26.1                 0                0   \n",
       "337                   29.1                 0                0   \n",
       "338                   30.6               0.1                1   \n",
       "339                     28               0.1                1   \n",
       "340                   23.9              47.8                0   \n",
       "\n",
       "     Consumo de cerveja (litros)  Month  day  \n",
       "335                       30.471     12    2  \n",
       "336                       28.405     12    3  \n",
       "337                       29.513     12    4  \n",
       "338                       32.451     12    5  \n",
       "339                       32.780     12    6  \n",
       "340                       23.375     12    0  "
      ]
     },
     "execution_count": 4,
     "metadata": {},
     "output_type": "execute_result"
    }
   ],
   "source": [
    "df1['Month']=df1.Data.dt.month\n",
    "df1['day']=df1.Data.dt.dayofweek\n",
    "df1.iloc[335:341]"
   ]
  },
  {
   "cell_type": "code",
   "execution_count": 5,
   "id": "3d808471",
   "metadata": {},
   "outputs": [],
   "source": [
    "df1.set_index('Data',inplace=True)"
   ]
  },
  {
   "cell_type": "markdown",
   "id": "9c350878",
   "metadata": {},
   "source": [
    "### Handle null values"
   ]
  },
  {
   "cell_type": "code",
   "execution_count": 6,
   "id": "fefe51bb",
   "metadata": {},
   "outputs": [
    {
     "name": "stdout",
     "output_type": "stream",
     "text": [
      "<class 'pandas.core.frame.DataFrame'>\n",
      "DatetimeIndex: 365 entries, 2015-01-01 to 2015-12-31\n",
      "Data columns (total 8 columns):\n",
      " #   Column                       Non-Null Count  Dtype  \n",
      "---  ------                       --------------  -----  \n",
      " 0   Temperatura Media (C)        365 non-null    object \n",
      " 1   Temperatura Minima (C)       365 non-null    object \n",
      " 2   Temperatura Maxima (C)       365 non-null    object \n",
      " 3   Precipitacao (mm)            365 non-null    object \n",
      " 4   Final de Semana              365 non-null    int64  \n",
      " 5   Consumo de cerveja (litros)  365 non-null    float64\n",
      " 6   Month                        365 non-null    int32  \n",
      " 7   day                          365 non-null    int32  \n",
      "dtypes: float64(1), int32(2), int64(1), object(4)\n",
      "memory usage: 22.8+ KB\n"
     ]
    }
   ],
   "source": [
    "df1.info()"
   ]
  },
  {
   "cell_type": "code",
   "execution_count": 7,
   "id": "187b4c97",
   "metadata": {},
   "outputs": [
    {
     "name": "stdout",
     "output_type": "stream",
     "text": [
      "0\n"
     ]
    }
   ],
   "source": [
    "print(df1.isnull().all(axis=1).sum()) # calculate the number of rows which have null values in all columns"
   ]
  },
  {
   "cell_type": "code",
   "execution_count": 8,
   "id": "b99bf967",
   "metadata": {},
   "outputs": [
    {
     "data": {
      "text/plain": [
       "(365, 8)"
      ]
     },
     "execution_count": 8,
     "metadata": {},
     "output_type": "execute_result"
    }
   ],
   "source": [
    "df1.shape"
   ]
  },
  {
   "cell_type": "code",
   "execution_count": 9,
   "id": "5e3252fb",
   "metadata": {},
   "outputs": [
    {
     "name": "stdout",
     "output_type": "stream",
     "text": [
      "False: No duplicate instances\n"
     ]
    }
   ],
   "source": [
    "if df1.duplicated().any():\n",
    "    print('True: duplicate instances')\n",
    "else:\n",
    "    print('False: No duplicate instances')"
   ]
  },
  {
   "cell_type": "markdown",
   "id": "f84e9a98",
   "metadata": {},
   "source": [
    "### Check the data-types of the features\n",
    "\n",
    "#### Convert them to appropriate data types"
   ]
  },
  {
   "cell_type": "code",
   "execution_count": 10,
   "id": "7062c381",
   "metadata": {},
   "outputs": [],
   "source": [
    "df1['Temperatura Media (C)']=df1[['Temperatura Media (C)']].astype(float)\n",
    "df1['Temperatura Minima (C)'] = df1['Temperatura Minima (C)'].astype(float)\n",
    "df1['Temperatura Maxima (C)'] = df1['Temperatura Maxima (C)'].astype(float)\n",
    "df1['Precipitacao (mm)'] = df1['Precipitacao (mm)'].astype(float)\n",
    "# Final de semana is a categorical column(like yes or no) so it should be int, not float\n",
    "df1['Final de Semana'] = df1['Final de Semana'].astype(int)"
   ]
  },
  {
   "cell_type": "code",
   "execution_count": 11,
   "id": "1625af6d",
   "metadata": {},
   "outputs": [
    {
     "name": "stdout",
     "output_type": "stream",
     "text": [
      "<class 'pandas.core.frame.DataFrame'>\n",
      "DatetimeIndex: 365 entries, 2015-01-01 to 2015-12-31\n",
      "Data columns (total 8 columns):\n",
      " #   Column                       Non-Null Count  Dtype  \n",
      "---  ------                       --------------  -----  \n",
      " 0   Temperatura Media (C)        365 non-null    float64\n",
      " 1   Temperatura Minima (C)       365 non-null    float64\n",
      " 2   Temperatura Maxima (C)       365 non-null    float64\n",
      " 3   Precipitacao (mm)            365 non-null    float64\n",
      " 4   Final de Semana              365 non-null    int64  \n",
      " 5   Consumo de cerveja (litros)  365 non-null    float64\n",
      " 6   Month                        365 non-null    int32  \n",
      " 7   day                          365 non-null    int32  \n",
      "dtypes: float64(5), int32(2), int64(1)\n",
      "memory usage: 22.8 KB\n"
     ]
    }
   ],
   "source": [
    "df1.info()"
   ]
  },
  {
   "cell_type": "code",
   "execution_count": 12,
   "id": "db482b77",
   "metadata": {},
   "outputs": [
    {
     "data": {
      "text/html": [
       "<div>\n",
       "<style scoped>\n",
       "    .dataframe tbody tr th:only-of-type {\n",
       "        vertical-align: middle;\n",
       "    }\n",
       "\n",
       "    .dataframe tbody tr th {\n",
       "        vertical-align: top;\n",
       "    }\n",
       "\n",
       "    .dataframe thead th {\n",
       "        text-align: right;\n",
       "    }\n",
       "</style>\n",
       "<table border=\"1\" class=\"dataframe\">\n",
       "  <thead>\n",
       "    <tr style=\"text-align: right;\">\n",
       "      <th></th>\n",
       "      <th>Temperatura Media (C)</th>\n",
       "      <th>Temperatura Minima (C)</th>\n",
       "      <th>Temperatura Maxima (C)</th>\n",
       "      <th>Precipitacao (mm)</th>\n",
       "      <th>Final de Semana</th>\n",
       "      <th>Consumo de cerveja (litros)</th>\n",
       "      <th>Month</th>\n",
       "      <th>day</th>\n",
       "    </tr>\n",
       "  </thead>\n",
       "  <tbody>\n",
       "    <tr>\n",
       "      <th>count</th>\n",
       "      <td>365.000000</td>\n",
       "      <td>365.000000</td>\n",
       "      <td>365.000000</td>\n",
       "      <td>365.000000</td>\n",
       "      <td>365.000000</td>\n",
       "      <td>365.000000</td>\n",
       "      <td>365.000000</td>\n",
       "      <td>365.0</td>\n",
       "    </tr>\n",
       "    <tr>\n",
       "      <th>mean</th>\n",
       "      <td>21.226356</td>\n",
       "      <td>17.461370</td>\n",
       "      <td>26.611507</td>\n",
       "      <td>5.196712</td>\n",
       "      <td>0.284932</td>\n",
       "      <td>25.401367</td>\n",
       "      <td>6.526027</td>\n",
       "      <td>3.0</td>\n",
       "    </tr>\n",
       "    <tr>\n",
       "      <th>std</th>\n",
       "      <td>3.180108</td>\n",
       "      <td>2.826185</td>\n",
       "      <td>4.317366</td>\n",
       "      <td>12.417844</td>\n",
       "      <td>0.452001</td>\n",
       "      <td>4.399143</td>\n",
       "      <td>3.452584</td>\n",
       "      <td>2.0</td>\n",
       "    </tr>\n",
       "    <tr>\n",
       "      <th>min</th>\n",
       "      <td>12.900000</td>\n",
       "      <td>10.600000</td>\n",
       "      <td>14.500000</td>\n",
       "      <td>0.000000</td>\n",
       "      <td>0.000000</td>\n",
       "      <td>14.343000</td>\n",
       "      <td>1.000000</td>\n",
       "      <td>0.0</td>\n",
       "    </tr>\n",
       "    <tr>\n",
       "      <th>25%</th>\n",
       "      <td>19.020000</td>\n",
       "      <td>15.300000</td>\n",
       "      <td>23.800000</td>\n",
       "      <td>0.000000</td>\n",
       "      <td>0.000000</td>\n",
       "      <td>22.008000</td>\n",
       "      <td>4.000000</td>\n",
       "      <td>1.0</td>\n",
       "    </tr>\n",
       "    <tr>\n",
       "      <th>50%</th>\n",
       "      <td>21.380000</td>\n",
       "      <td>17.900000</td>\n",
       "      <td>26.900000</td>\n",
       "      <td>0.000000</td>\n",
       "      <td>0.000000</td>\n",
       "      <td>24.867000</td>\n",
       "      <td>7.000000</td>\n",
       "      <td>3.0</td>\n",
       "    </tr>\n",
       "    <tr>\n",
       "      <th>75%</th>\n",
       "      <td>23.280000</td>\n",
       "      <td>19.600000</td>\n",
       "      <td>29.400000</td>\n",
       "      <td>3.200000</td>\n",
       "      <td>1.000000</td>\n",
       "      <td>28.631000</td>\n",
       "      <td>10.000000</td>\n",
       "      <td>5.0</td>\n",
       "    </tr>\n",
       "    <tr>\n",
       "      <th>max</th>\n",
       "      <td>28.860000</td>\n",
       "      <td>24.500000</td>\n",
       "      <td>36.500000</td>\n",
       "      <td>94.800000</td>\n",
       "      <td>1.000000</td>\n",
       "      <td>37.937000</td>\n",
       "      <td>12.000000</td>\n",
       "      <td>6.0</td>\n",
       "    </tr>\n",
       "  </tbody>\n",
       "</table>\n",
       "</div>"
      ],
      "text/plain": [
       "       Temperatura Media (C)  Temperatura Minima (C)  Temperatura Maxima (C)  \\\n",
       "count             365.000000              365.000000              365.000000   \n",
       "mean               21.226356               17.461370               26.611507   \n",
       "std                 3.180108                2.826185                4.317366   \n",
       "min                12.900000               10.600000               14.500000   \n",
       "25%                19.020000               15.300000               23.800000   \n",
       "50%                21.380000               17.900000               26.900000   \n",
       "75%                23.280000               19.600000               29.400000   \n",
       "max                28.860000               24.500000               36.500000   \n",
       "\n",
       "       Precipitacao (mm)  Final de Semana  Consumo de cerveja (litros)  \\\n",
       "count         365.000000       365.000000                   365.000000   \n",
       "mean            5.196712         0.284932                    25.401367   \n",
       "std            12.417844         0.452001                     4.399143   \n",
       "min             0.000000         0.000000                    14.343000   \n",
       "25%             0.000000         0.000000                    22.008000   \n",
       "50%             0.000000         0.000000                    24.867000   \n",
       "75%             3.200000         1.000000                    28.631000   \n",
       "max            94.800000         1.000000                    37.937000   \n",
       "\n",
       "            Month    day  \n",
       "count  365.000000  365.0  \n",
       "mean     6.526027    3.0  \n",
       "std      3.452584    2.0  \n",
       "min      1.000000    0.0  \n",
       "25%      4.000000    1.0  \n",
       "50%      7.000000    3.0  \n",
       "75%     10.000000    5.0  \n",
       "max     12.000000    6.0  "
      ]
     },
     "execution_count": 12,
     "metadata": {},
     "output_type": "execute_result"
    }
   ],
   "source": [
    "df1.describe()"
   ]
  },
  {
   "cell_type": "markdown",
   "id": "43d4a8ee",
   "metadata": {},
   "source": [
    "### Handle Outlier Data"
   ]
  },
  {
   "cell_type": "code",
   "execution_count": 13,
   "id": "c624add1",
   "metadata": {},
   "outputs": [
    {
     "data": {
      "image/png": "[encoded data removed]",
      "text/plain": [
       "<Figure size 1200x1500 with 1 Axes>"
      ]
     },
     "metadata": {},
     "output_type": "display_data"
    }
   ],
   "source": [
    "import matplotlib.pyplot as plt\n",
    "df1.boxplot(figsize=(12,15))\n",
    "plt.show()"
   ]
  },
  {
   "cell_type": "markdown",
   "id": "4da35c70",
   "metadata": {},
   "source": [
    "#### Column 'Precipitacio' seems to have lots of outlier. Let's try to understand this using the distribution of the data"
   ]
  },
  {
   "cell_type": "code",
   "execution_count": 14,
   "id": "0622c079",
   "metadata": {},
   "outputs": [
    {
     "data": {
      "image/png": "[encoded data removed]",
      "text/plain": [
       "<Figure size 1000x1000 with 1 Axes>"
      ]
     },
     "metadata": {},
     "output_type": "display_data"
    }
   ],
   "source": [
    "df1['Precipitacao (mm)'].hist(bins=100,figsize=(10,10))\n",
    "plt.show()"
   ]
  },
  {
   "cell_type": "code",
   "execution_count": 15,
   "id": "8972660d",
   "metadata": {},
   "outputs": [
    {
     "name": "stdout",
     "output_type": "stream",
     "text": [
      "Precipitacao (mm)\n",
      "0.0    218\n",
      "Name: count, dtype: int64\n"
     ]
    }
   ],
   "source": [
    "print(df1['Precipitacao (mm)'][df1['Precipitacao (mm)']==0].value_counts())"
   ]
  },
  {
   "cell_type": "markdown",
   "id": "baef3916",
   "metadata": {},
   "source": [
    "#### We can see out of 365, 218 values are 0\n",
    "\n",
    "### We can see how the data is mostly skewed thus having so many outliers. It can also be possible that the values with 0 percipitation are the instance where percipitation was not recorded. Lets clip all the values over 40 in column 'Precipitacao (mm)' to 40."
   ]
  },
  {
   "cell_type": "code",
   "execution_count": 28,
   "id": "1952d044",
   "metadata": {},
   "outputs": [],
   "source": [
    "import numpy as np\n",
    "df1['Precipitacao (mm)'] = np.clip(df1['Precipitacao (mm)'], 0, 40)"
   ]
  },
  {
   "cell_type": "markdown",
   "id": "d5f1bc46",
   "metadata": {},
   "source": [
    "#### Calculate correlation and compare"
   ]
  },
  {
   "cell_type": "code",
   "execution_count": 33,
   "id": "157ef8a5",
   "metadata": {},
   "outputs": [
    {
     "data": {
      "text/plain": [
       "<Axes: >"
      ]
     },
     "execution_count": 33,
     "metadata": {},
     "output_type": "execute_result"
    }
   ],
   "source": [
    "import seaborn as sns\n",
    "correlation = df1.corr()\n",
    "sns.heatmap(correlation, annot = True)"
   ]
  },
  {
   "cell_type": "markdown",
   "id": "89766ce0",
   "metadata": {},
   "source": [
    "All the features are showing a high correlation with the output feature except the 'Month' feature. In the case of the 'Precipitacao (mm)' feature, which has lots of\n",
    "values as 0, still, it is showing quite good correlation, and hence we will keep it"
   ]
  },
  {
   "cell_type": "markdown",
   "id": "562a3896",
   "metadata": {},
   "source": [
    "#### Split the data into training and testing datasets"
   ]
  },
  {
   "cell_type": "code",
   "execution_count": 34,
   "id": "9649bd94",
   "metadata": {},
   "outputs": [],
   "source": [
    "from sklearn.model_selection import train_test_split\n",
    "X= df1.drop(columns=['Consumo de cerveja (litros)'],axis=1)\n",
    "y= df1['Consumo de cerveja (litros)']\n",
    "\n",
    "from sklearn.preprocessing import StandardScaler\n",
    "\n",
    "scaler = StandardScaler()\n",
    "X = pd.DataFrame(scaler.fit_transform(X), columns=X.columns)"
   ]
  },
  {
   "cell_type": "code",
   "execution_count": 35,
   "id": "8fe90946",
   "metadata": {},
   "outputs": [
    {
     "data": {
      "text/html": [
       "<div>\n",
       "<style scoped>\n",
       "    .dataframe tbody tr th:only-of-type {\n",
       "        vertical-align: middle;\n",
       "    }\n",
       "\n",
       "    .dataframe tbody tr th {\n",
       "        vertical-align: top;\n",
       "    }\n",
       "\n",
       "    .dataframe thead th {\n",
       "        text-align: right;\n",
       "    }\n",
       "</style>\n",
       "<table border=\"1\" class=\"dataframe\">\n",
       "  <thead>\n",
       "    <tr style=\"text-align: right;\">\n",
       "      <th></th>\n",
       "      <th>Temperatura Media (C)</th>\n",
       "      <th>Temperatura Minima (C)</th>\n",
       "      <th>Temperatura Maxima (C)</th>\n",
       "      <th>Precipitacao (mm)</th>\n",
       "      <th>Final de Semana</th>\n",
       "      <th>Month</th>\n",
       "      <th>day</th>\n",
       "    </tr>\n",
       "  </thead>\n",
       "  <tbody>\n",
       "    <tr>\n",
       "      <th>0</th>\n",
       "      <td>1.912508</td>\n",
       "      <td>2.281333</td>\n",
       "      <td>1.365781</td>\n",
       "      <td>-0.479960</td>\n",
       "      <td>-0.631243</td>\n",
       "      <td>-1.602745</td>\n",
       "      <td>0.000000</td>\n",
       "    </tr>\n",
       "    <tr>\n",
       "      <th>1</th>\n",
       "      <td>1.824340</td>\n",
       "      <td>2.493924</td>\n",
       "      <td>1.597722</td>\n",
       "      <td>-0.479960</td>\n",
       "      <td>-0.631243</td>\n",
       "      <td>-1.602745</td>\n",
       "      <td>0.500686</td>\n",
       "    </tr>\n",
       "    <tr>\n",
       "      <th>2</th>\n",
       "      <td>1.131590</td>\n",
       "      <td>1.749853</td>\n",
       "      <td>0.762735</td>\n",
       "      <td>-0.479960</td>\n",
       "      <td>1.584177</td>\n",
       "      <td>-1.602745</td>\n",
       "      <td>1.001373</td>\n",
       "    </tr>\n",
       "    <tr>\n",
       "      <th>3</th>\n",
       "      <td>0.867085</td>\n",
       "      <td>1.430966</td>\n",
       "      <td>0.461212</td>\n",
       "      <td>-0.355796</td>\n",
       "      <td>1.584177</td>\n",
       "      <td>-1.602745</td>\n",
       "      <td>1.502059</td>\n",
       "    </tr>\n",
       "    <tr>\n",
       "      <th>4</th>\n",
       "      <td>0.816703</td>\n",
       "      <td>1.253806</td>\n",
       "      <td>0.391630</td>\n",
       "      <td>-0.479960</td>\n",
       "      <td>-0.631243</td>\n",
       "      <td>-1.602745</td>\n",
       "      <td>-1.502059</td>\n",
       "    </tr>\n",
       "    <tr>\n",
       "      <th>...</th>\n",
       "      <td>...</td>\n",
       "      <td>...</td>\n",
       "      <td>...</td>\n",
       "      <td>...</td>\n",
       "      <td>...</td>\n",
       "      <td>...</td>\n",
       "      <td>...</td>\n",
       "    </tr>\n",
       "    <tr>\n",
       "      <th>360</th>\n",
       "      <td>0.873383</td>\n",
       "      <td>1.289238</td>\n",
       "      <td>0.368436</td>\n",
       "      <td>0.927235</td>\n",
       "      <td>1.584177</td>\n",
       "      <td>1.587648</td>\n",
       "      <td>1.502059</td>\n",
       "    </tr>\n",
       "    <tr>\n",
       "      <th>361</th>\n",
       "      <td>0.445137</td>\n",
       "      <td>1.289238</td>\n",
       "      <td>0.020525</td>\n",
       "      <td>-0.479960</td>\n",
       "      <td>-0.631243</td>\n",
       "      <td>1.587648</td>\n",
       "      <td>-1.502059</td>\n",
       "    </tr>\n",
       "    <tr>\n",
       "      <th>362</th>\n",
       "      <td>0.142846</td>\n",
       "      <td>1.005782</td>\n",
       "      <td>-0.582521</td>\n",
       "      <td>0.585783</td>\n",
       "      <td>-0.631243</td>\n",
       "      <td>1.587648</td>\n",
       "      <td>-1.001373</td>\n",
       "    </tr>\n",
       "    <tr>\n",
       "      <th>363</th>\n",
       "      <td>0.048380</td>\n",
       "      <td>0.651463</td>\n",
       "      <td>-0.976820</td>\n",
       "      <td>0.171902</td>\n",
       "      <td>-0.631243</td>\n",
       "      <td>1.587648</td>\n",
       "      <td>-0.500686</td>\n",
       "    </tr>\n",
       "    <tr>\n",
       "      <th>364</th>\n",
       "      <td>1.112696</td>\n",
       "      <td>0.970350</td>\n",
       "      <td>0.553989</td>\n",
       "      <td>-0.479960</td>\n",
       "      <td>-0.631243</td>\n",
       "      <td>1.587648</td>\n",
       "      <td>0.000000</td>\n",
       "    </tr>\n",
       "  </tbody>\n",
       "</table>\n",
       "<p>365 rows × 7 columns</p>\n",
       "</div>"
      ],
      "text/plain": [
       "     Temperatura Media (C)  Temperatura Minima (C)  Temperatura Maxima (C)  \\\n",
       "0                 1.912508                2.281333                1.365781   \n",
       "1                 1.824340                2.493924                1.597722   \n",
       "2                 1.131590                1.749853                0.762735   \n",
       "3                 0.867085                1.430966                0.461212   \n",
       "4                 0.816703                1.253806                0.391630   \n",
       "..                     ...                     ...                     ...   \n",
       "360               0.873383                1.289238                0.368436   \n",
       "361               0.445137                1.289238                0.020525   \n",
       "362               0.142846                1.005782               -0.582521   \n",
       "363               0.048380                0.651463               -0.976820   \n",
       "364               1.112696                0.970350                0.553989   \n",
       "\n",
       "     Precipitacao (mm)  Final de Semana     Month       day  \n",
       "0            -0.479960        -0.631243 -1.602745  0.000000  \n",
       "1            -0.479960        -0.631243 -1.602745  0.500686  \n",
       "2            -0.479960         1.584177 -1.602745  1.001373  \n",
       "3            -0.355796         1.584177 -1.602745  1.502059  \n",
       "4            -0.479960        -0.631243 -1.602745 -1.502059  \n",
       "..                 ...              ...       ...       ...  \n",
       "360           0.927235         1.584177  1.587648  1.502059  \n",
       "361          -0.479960        -0.631243  1.587648 -1.502059  \n",
       "362           0.585783        -0.631243  1.587648 -1.001373  \n",
       "363           0.171902        -0.631243  1.587648 -0.500686  \n",
       "364          -0.479960        -0.631243  1.587648  0.000000  \n",
       "\n",
       "[365 rows x 7 columns]"
      ]
     },
     "execution_count": 35,
     "metadata": {},
     "output_type": "execute_result"
    }
   ],
   "source": [
    "X"
   ]
  },
  {
   "cell_type": "code",
   "execution_count": 36,
   "id": "90e001a6",
   "metadata": {},
   "outputs": [
    {
     "data": {
      "text/plain": [
       "Temperatura Media (C)     float64\n",
       "Temperatura Minima (C)    float64\n",
       "Temperatura Maxima (C)    float64\n",
       "Precipitacao (mm)         float64\n",
       "Final de Semana           float64\n",
       "Month                     float64\n",
       "day                       float64\n",
       "dtype: object"
      ]
     },
     "execution_count": 36,
     "metadata": {},
     "output_type": "execute_result"
    }
   ],
   "source": [
    "X.dtypes"
   ]
  },
  {
   "cell_type": "code",
   "execution_count": 45,
   "id": "432ea9da",
   "metadata": {},
   "outputs": [],
   "source": [
    "X_train, X_test, y_train, y_test = train_test_split(X, y, train_size=0.7, random_state=123)"
   ]
  },
  {
   "cell_type": "markdown",
   "id": "8fcd5075",
   "metadata": {},
   "source": [
    "### Train the model"
   ]
  },
  {
   "cell_type": "code",
   "execution_count": 46,
   "id": "b7281472",
   "metadata": {},
   "outputs": [],
   "source": [
    "from sklearn.linear_model import LinearRegression, Ridge, Lasso, ElasticNet, SGDRegressor, HuberRegressor"
   ]
  },
  {
   "cell_type": "code",
   "execution_count": 47,
   "id": "127d7ee5",
   "metadata": {},
   "outputs": [],
   "source": [
    "models = {\n",
    "    '    Linear Regression': LinearRegression(),\n",
    "    '     Ridge Regression': Ridge(),\n",
    "    '     Lasso Regression': Lasso(),\n",
    "    'ElasticNet Regression': ElasticNet(),\n",
    "    '       SGD Regression': SGDRegressor(),\n",
    "    '     Huber Regression': HuberRegressor()\n",
    "}\n",
    "\n",
    "for model in models.values():\n",
    "    model.fit(X_train, y_train)\n"
   ]
  },
  {
   "cell_type": "code",
   "execution_count": 48,
   "id": "9c93ce89",
   "metadata": {},
   "outputs": [
    {
     "name": "stdout",
     "output_type": "stream",
     "text": [
      "    Linear Regression R^2 Score: 0.6914\n",
      "     Ridge Regression R^2 Score: 0.6928\n",
      "     Lasso Regression R^2 Score: 0.5763\n",
      "ElasticNet Regression R^2 Score: 0.5669\n",
      "       SGD Regression R^2 Score: 0.6957\n",
      "     Huber Regression R^2 Score: 0.6744\n"
     ]
    }
   ],
   "source": [
    "for name, model in models.items():\n",
    "    print(name + \" R^2 Score: {:.4f}\".format(model.score(X_test, y_test)))\n"
   ]
  },
  {
   "cell_type": "markdown",
   "id": "877a3f7d",
   "metadata": {},
   "source": [
    "### Evaluate the mode\n",
    "\n",
    "Predict the consumption for the test data\n",
    "\n",
    "Evaluate the model using R2 score\n",
    "\n",
    "Evaluate the model using Mean Absolute Error\n",
    "\n",
    "Evaluate the model using Root Mean Squared Error"
   ]
  },
  {
   "cell_type": "code",
   "execution_count": null,
   "id": "2b8a3af6",
   "metadata": {},
   "outputs": [],
   "source": []
  }
 ],
 "metadata": {
  "kernelspec": {
   "display_name": "Python 3 (ipykernel)",
   "language": "python",
   "name": "python3"
  },
  "language_info": {
   "codemirror_mode": {
    "name": "ipython",
    "version": 3
   },
   "file_extension": ".py",
   "mimetype": "text/x-python",
   "name": "python",
   "nbconvert_exporter": "python",
   "pygments_lexer": "ipython3",
   "version": "3.11.5"
  }
 },
 "nbformat": 4,
 "nbformat_minor": 5
}
